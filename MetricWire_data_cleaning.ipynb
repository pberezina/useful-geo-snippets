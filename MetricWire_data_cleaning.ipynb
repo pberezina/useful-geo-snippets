{
 "cells": [
  {
   "cell_type": "code",
   "execution_count": 1,
   "metadata": {},
   "outputs": [],
   "source": [
    "import pandas as pd\n",
    "import numpy as np\n",
    "import os\n",
    "from zipfile import ZipFile \n",
    "import datetime \n",
    "import re\n",
    "from datetime import datetime, timedelta, date\n",
    "from IPython.display import clear_output"
   ]
  },
  {
   "cell_type": "markdown",
   "metadata": {},
   "source": [
    "## Loading information with start and end dates of the survey\n",
    "\n",
    "study_end_dates.csv (rename to whatever necessary) is assumed to contain survey start and end dates for each participant, their userID, and whether they had GPS tracking on or not during this survey period.\n",
    "\n",
    "The last line ensures that there are no empty spaces in the username"
   ]
  },
  {
   "cell_type": "code",
   "execution_count": 2,
   "metadata": {},
   "outputs": [],
   "source": [
    "study_info = pd.read_csv('study_end_dates.csv', \n",
    "                         dtype={'participantId': np.int16, \n",
    "                                'userId': np.str,\n",
    "                                'tracking_on': np.bool_},\n",
    "                         parse_dates=['date_study_ends', 'date_study_starts'], \n",
    "                         infer_datetime_format=True)   \n",
    "study_info['userId'] = study_info['userId'].str.strip() "
   ]
  },
  {
   "cell_type": "markdown",
   "metadata": {},
   "source": [
    "## Automatically extracting zip files in a folder"
   ]
  },
  {
   "cell_type": "code",
   "execution_count": null,
   "metadata": {},
   "outputs": [],
   "source": [
    "for file_name in os.listdir('/path/to/the/folder'):\n",
    "    try:\n",
    "        if file_name[-4:]=='.zip':\n",
    "            with ZipFile(file_name, 'r') as zip: \n",
    "                zip.extractall(path=file_name[:-4])\n",
    "    except:\n",
    "        print('{} failed'.format(file_name))"
   ]
  },
  {
   "cell_type": "markdown",
   "metadata": {},
   "source": [
    "# QA and Combining csvs\n",
    "1. Ensure 'timeZoneMinutes' == -240, studyId == '5e3b2de163332d0f77a4b055', userId & deviceId are the same\n",
    "2. Drop columns ['_id', 'time', 'timeZoneMinutes', 'studyId', 'triggerId', 'triggerTime']\n",
    "3. Find out time gaps, drop weird entries?\n",
    "4. Is there missing data?\n",
    "\n",
    "Exports information about the above errors to the \"errors.txt\" file"
   ]
  },
  {
   "cell_type": "code",
   "execution_count": 3,
   "metadata": {},
   "outputs": [],
   "source": [
    "def qa_check(df, participant_num):\n",
    "    print('\\n{}\\n{}\\n'.format(participant_num, df.userId.unique()[0]))\n",
    "    \n",
    "    if not (df.timeZoneMinutes.unique() == -240).all():\n",
    "        print('timeZoneMinutes: not one timezone or not EDT\\n')\n",
    "    if len(df.userId.unique()) > 1:\n",
    "        print('userId: more than 1\\n')\n",
    "    if study_info[study_info.userId == df.userId.unique()[0]].participantId.iloc[0] != participant_num:\n",
    "        print('userId or participantId: does not match with Pilot Study xls\\n')\n",
    "    if not (df.studyId.unique() == '5e3b2de163332d0f77a4b055').all():\n",
    "        print('studyId: different study(ies) -> {}\\n'.format(df.studyId.unique()))\n",
    "    if len(df.deviceId.unique()) > 1:\n",
    "        print('deviceId: {} devices registered\\n'.format(len(df.deviceId.unique())))\n",
    "    \n",
    "    try:\n",
    "        df.drop(['time', 'timeZoneMinutes', 'studyId', 'submissionId', 'triggerId', \n",
    "                 'triggerTime', 'userId', 'deviceId'], axis=1, inplace=True)\n",
    "    except:\n",
    "        print('Could not drop all other columns')\n",
    "        \n",
    "    try: \n",
    "        df.drop(['_id'], axis=1, inplace=True)\n",
    "    except:\n",
    "        pass\n",
    "    \n",
    "    end_date = study_info[study_info.participantId == participant_num].date_study_ends.iloc[0] + timedelta(days=1)\n",
    "    start_date = study_info[study_info.participantId == participant_num].date_study_starts.iloc[0]\n",
    "    df = df[(df.timestamp < end_date) & (df.timestamp >= start_date)]\n",
    "    print('{}/{} :: {}/{}'.format(start_date.month,start_date.day,end_date.month, end_date.day-1))\n",
    "    \n",
    "    if df.isnull().values.any():\n",
    "        print('Missing values in the dataset\\n')\n",
    "        \n",
    "    return df"
   ]
  },
  {
   "cell_type": "code",
   "execution_count": null,
   "metadata": {},
   "outputs": [],
   "source": [
    "os.chdir('path_to_the/Participant location data/')\n",
    "         \n",
    "for folder in os.listdir():\n",
    "    print('\\n' + folder, end =\"  \")\n",
    "    num = re.search(r'\\d{4}', folder) # participant number with a length of 4 digits\n",
    "    try:\n",
    "        num_participant = int(num.group())\n",
    "        dfs = []  # an \n",
    "        for file_name in os.listdir(folder):\n",
    "            if '.csv' in file_name:\n",
    "                dfs.append(pd.read_csv(folder+'/'+file_name, parse_dates=['timestamp'], \n",
    "                                       infer_datetime_format=True,\n",
    "                                      engine='python'))\n",
    "        data = pd.concat(dfs, ignore_index=True, sort=False)\n",
    "        del dfs\n",
    "        data.sort_values(by=['timestamp'], inplace=True)  #sort by time\n",
    "\n",
    "        with open(\"errors.txt\", 'a') as errors_file:\n",
    "            data = qa_check(data, num_participant, errors_file)  \n",
    "        data.to_csv(\"{}.csv\".format(num_participant), index=False)\n",
    "\n",
    "    except Exception as e:\n",
    "        print('Could not execute.  ', getattr(e, 'message', repr(e)))\n",
    "        break"
   ]
  },
  {
   "cell_type": "markdown",
   "metadata": {},
   "source": [
    "# Time gaps"
   ]
  },
  {
   "cell_type": "code",
   "execution_count": 14,
   "metadata": {
    "scrolled": true
   },
   "outputs": [],
   "source": [
    "def get_part_of_day(hour):\n",
    "    return (\n",
    "        1 if 20 <= hour <= 23\n",
    "        else\n",
    "        1 if 0 <= hour <= 7\n",
    "        else\n",
    "        0\n",
    "    )\n",
    "\n",
    "def calculate_gaps(df, participant_num):\n",
    "    # Take the diff of the first column (drop 1st row since it's undefined)\n",
    "    deltas = df.timestamp.diff()[1:]\n",
    "    gaps_list = []  # contains time gaps stats\n",
    "\n",
    "    # Filter diffs (here days > 1, but could be seconds, hours, etc)\n",
    "    gaps = deltas[deltas >= timedelta(minutes=30)]\n",
    "    gaps_2h = deltas[(deltas >= timedelta(minutes=30)) & (deltas < timedelta(hours=2))]\n",
    "    gaps_5h = deltas[(deltas >= timedelta(hours=2)) & (deltas < timedelta(hours=5))]\n",
    "    gaps_9h = deltas[(deltas >= timedelta(hours=5)) & (deltas < timedelta(hours=9))]\n",
    "    gaps_more = deltas[deltas >= timedelta(hours=9)]\n",
    "    dict1 = {'participantId': participant_num, \n",
    "             'userId': study_info[study_info.participantId == participant_num].userId.iloc[0],\n",
    "             'tracking_on_metricwire': study_info[study_info.participantId == participant_num].tracking_on.iloc[0],\n",
    "             'total_records': len(df), '30m_2h': len(gaps_2h), \n",
    "             '2h_5h': len(gaps_5h), \n",
    "             '2h_5h_nighttime': [get_part_of_day(df.timestamp[i-1].hour) for i, g in gaps_5h.iteritems()].count(1),\n",
    "             '5h_9h': len(gaps_9h), \n",
    "             '5h_9h_nighttime': [get_part_of_day(df.timestamp[i-1].hour) for i, g in gaps_9h.iteritems()].count(1),\n",
    "             'more_9h': len(gaps_more)\n",
    "            }\n",
    "\n",
    "    #####################\n",
    "    \n",
    "    d = study_info[study_info.participantId == participant_num].date_study_ends.iloc[0]\n",
    "    end_date = date(d.year, d.month, d.day)\n",
    "    d = study_info[study_info.participantId == participant_num].date_study_starts.iloc[0]\n",
    "    start_date = date(d.year, d.month, d.day)\n",
    "    delta = end_date - start_date \n",
    "\n",
    "    for i in range(delta.days + 1):\n",
    "        day = start_date + timedelta(days=i)\n",
    "        if day in df.timestamp.dt.date.unique():\n",
    "            dict1['day_' + str(i+1)] = 1\n",
    "            \n",
    "        else:\n",
    "            dict1['day_' + str(i+1)] = np.nan   \n",
    "        \n",
    "    gaps_list.append(dict1)\n",
    "        \n",
    "    ####################\n",
    "    \n",
    "    gaps_per_person = []  #gaps for each participant that are more than 4h\n",
    "    gaps_4h = deltas[(deltas > timedelta(hours=4))]\n",
    "    for i, g in gaps_4h.iteritems():\n",
    "        gap_start = df['timestamp'][i-1]\n",
    "        gaps_per_person.append(\n",
    "            {\n",
    "                'start' : datetime.strftime(gap_start, \"%m/%d/%y %H:%M\"),\n",
    "                'duration': str(g.to_pytimedelta()),\n",
    "                'is_nighttime' : get_part_of_day(gap_start.hour)\n",
    "            }\n",
    "        )\n",
    "    pd.DataFrame(gaps_per_person).to_csv('time_gaps/'+str(participant_num)+'.csv', index=False)\n",
    "    \n",
    "    return pd.DataFrame(gaps_list)"
   ]
  },
  {
   "cell_type": "code",
   "execution_count": null,
   "metadata": {
    "scrolled": true
   },
   "outputs": [],
   "source": [
    "for file_name in os.listdir():\n",
    "    print('\\n' + file_name, end =\"  \")\n",
    "    num = re.search(r'\\d{4}', file_name)\n",
    "    if num and '.csv' in file_name:\n",
    "        try:\n",
    "            num_participant = int(num.group())\n",
    "            data = pd.read_csv(file_name, parse_dates=['timestamp'], infer_datetime_format=True)\n",
    "            if len(data)==0:\n",
    "                print('||  empty file', end =\"\")\n",
    "                continue\n",
    "            gaps = calculate_gaps(data, num_participant)\n",
    "            if not os.path.isfile('time_gaps/time_statistics.csv'):\n",
    "                gaps.to_csv('time_gaps/time_statistics.csv', index=False, header ='column_names')\n",
    "            else:\n",
    "                gaps.to_csv('time_gaps/time_statistics.csv', mode='a', index=False, header=False)\n",
    "        except Exception as e:\n",
    "            print('Could not execute.  ', getattr(e, 'message', repr(e)))         \n",
    "    else:\n",
    "        print('not a participant csv')"
   ]
  }
 ],
 "metadata": {
  "kernelspec": {
   "display_name": "Python 3",
   "language": "python",
   "name": "python3"
  },
  "language_info": {
   "codemirror_mode": {
    "name": "ipython",
    "version": 3
   },
   "file_extension": ".py",
   "mimetype": "text/x-python",
   "name": "python",
   "nbconvert_exporter": "python",
   "pygments_lexer": "ipython3",
   "version": "3.7.7"
  }
 },
 "nbformat": 4,
 "nbformat_minor": 4
}
